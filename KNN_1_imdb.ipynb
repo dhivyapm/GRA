{
 "cells": [
  {
   "cell_type": "code",
   "execution_count": 15,
   "metadata": {},
   "outputs": [],
   "source": [
    "import pandas as pd\n",
    "df = pd.read_csv('aspect_feature_label.csv',sep=',')\n"
   ]
  },
  {
   "cell_type": "code",
   "execution_count": 16,
   "metadata": {},
   "outputs": [],
   "source": [
    "df1 = df.copy()\n",
    "df1 = df1.drop(['emotions'],axis=1)"
   ]
  },
  {
   "cell_type": "code",
   "execution_count": 17,
   "metadata": {},
   "outputs": [],
   "source": [
    "X = df1.copy()\n",
    "y = df.iloc[:,-1]"
   ]
  },
  {
   "cell_type": "code",
   "execution_count": 18,
   "metadata": {},
   "outputs": [],
   "source": [
    "# Splitting the dataset into the Training set and Test set\n",
    "from sklearn.model_selection import train_test_split\n",
    "X_train, X_test, y_train, y_test = train_test_split(X, y, test_size = 0.15, random_state = 0)"
   ]
  },
  {
   "cell_type": "code",
   "execution_count": 33,
   "metadata": {},
   "outputs": [],
   "source": [
    "def euclidean_distance(vector1, vector2):\n",
    "    return np.sqrt(np.sum(np.power(vector1-vector2, 2)))\n",
    "def absolute_distance(vector1, vector2):\n",
    "    return np.sum(np.absolute(vector1-vector2))"
   ]
  },
  {
   "cell_type": "code",
   "execution_count": 26,
   "metadata": {},
   "outputs": [],
   "source": [
    "def get_neighbours(X_train, X_test_instance, k):\n",
    "    distances = []\n",
    "    neighbors = []\n",
    "    for i in range(0, X_train.shape[0]):\n",
    "        dist = absolute_distance(X_train[i], X_test_instance)\n",
    "        distances.append((i, dist))\n",
    "    distances.sort(key=operator.itemgetter(1))\n",
    "    for x in range(k):\n",
    "        #print distances[x]\n",
    "        neighbors.append(distances[x][0])\n",
    "    return neighbors"
   ]
  },
  {
   "cell_type": "code",
   "execution_count": 45,
   "metadata": {
    "scrolled": true
   },
   "outputs": [],
   "source": [
    "def predictkNNClass(output, y_train):\n",
    "    classVotes = {}\n",
    "    for i in range(len(output)):\n",
    "#         print output[i], y_train[output[i]]\n",
    "        if y_train[output[i]] in classVotes:\n",
    "            classVotes[y_train[output[i]]] += 1\n",
    "        else:\n",
    "            classVotes[y_train[output[i]]] = 1\n",
    "    sortedVotes = sorted(classVotes.items(), key=operator.itemgetter(1), reverse=True)\n",
    "    #print(sortedVotes[0][0])\n",
    "    return sortedVotes[0][0]"
   ]
  },
  {
   "cell_type": "code",
   "execution_count": 51,
   "metadata": {},
   "outputs": [],
   "source": [
    "def kNN_test(X_train, X_test, Y_train, Y_test, k):\n",
    "    output_classes = []\n",
    "    for i in range(0, X_test.shape[0]):\n",
    "        output = get_neighbours(X_train, X_test[i], k)\n",
    "        predictedClass = predictkNNClass(output, Y_train)\n",
    "        output_classes.append(predictedClass)\n",
    "        #print(output_classes)\n",
    "    return output_classes"
   ]
  },
  {
   "cell_type": "code",
   "execution_count": 52,
   "metadata": {},
   "outputs": [],
   "source": [
    "def prediction_accuracy(predicted_labels, original_labels):\n",
    "    count = 0\n",
    "    for i in range(len(predicted_labels)):\n",
    "        if predicted_labels[i] == original_labels[i]:\n",
    "            count += 1\n",
    "    print(float(count)/len(predicted_labels))\n",
    "    return float(count)/len(predicted_labels)"
   ]
  },
  {
   "cell_type": "code",
   "execution_count": 53,
   "metadata": {},
   "outputs": [
    {
     "name": "stdout",
     "output_type": "stream",
     "text": [
      "0.3473333333333333\n",
      "k = 1 accuracy= 0.3473333333333333\n",
      "0.3473333333333333\n",
      "k = 2 accuracy= 0.3473333333333333\n",
      "0.35933333333333334\n",
      "k = 3 accuracy= 0.35933333333333334\n",
      "0.372\n",
      "k = 4 accuracy= 0.372\n",
      "0.38533333333333336\n",
      "k = 5 accuracy= 0.38533333333333336\n",
      "0.39\n",
      "k = 6 accuracy= 0.39\n",
      "0.3953333333333333\n",
      "k = 7 accuracy= 0.3953333333333333\n",
      "0.3993333333333333\n",
      "k = 8 accuracy= 0.3993333333333333\n",
      "0.4\n",
      "k = 9 accuracy= 0.4\n"
     ]
    }
   ],
   "source": [
    "import numpy as np\n",
    "import operator\n",
    "X_train = np.array(X_train)\n",
    "X_test = np.array(X_test)\n",
    "y_train = np.array(y_train)\n",
    "y_test = np.array(y_test)\n",
    "predicted_classes = {}\n",
    "final_accuracies = {}\n",
    "for k in range(1, 10):\n",
    "    predicted_classes[k] = kNN_test(X_train, X_test, y_train, y_test, k)\n",
    "    final_accuracies[k] = prediction_accuracy(predicted_classes[k], y_test)\n",
    "    print('k =',k,'accuracy=',final_accuracies[k])"
   ]
  },
  {
   "cell_type": "code",
   "execution_count": null,
   "metadata": {},
   "outputs": [],
   "source": []
  }
 ],
 "metadata": {
  "kernelspec": {
   "display_name": "Python 3",
   "language": "python",
   "name": "python3"
  },
  "language_info": {
   "codemirror_mode": {
    "name": "ipython",
    "version": 3
   },
   "file_extension": ".py",
   "mimetype": "text/x-python",
   "name": "python",
   "nbconvert_exporter": "python",
   "pygments_lexer": "ipython3",
   "version": "3.8.5"
  }
 },
 "nbformat": 4,
 "nbformat_minor": 4
}
