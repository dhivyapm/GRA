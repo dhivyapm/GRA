{
  "nbformat": 4,
  "nbformat_minor": 0,
  "metadata": {
    "colab": {
      "name": "KNN_aspect.ipynb",
      "provenance": [],
      "collapsed_sections": [],
      "authorship_tag": "ABX9TyPu2zs9Y60v2cYktlatKPqg",
      "include_colab_link": true
    },
    "kernelspec": {
      "name": "python3",
      "display_name": "Python 3"
    },
    "language_info": {
      "name": "python"
    }
  },
  "cells": [
    {
      "cell_type": "markdown",
      "metadata": {
        "id": "view-in-github",
        "colab_type": "text"
      },
      "source": [
        "<a href=\"https://colab.research.google.com/github/dhivyapm/GRA/blob/main/KNN_aspect.ipynb\" target=\"_parent\"><img src=\"https://colab.research.google.com/assets/colab-badge.svg\" alt=\"Open In Colab\"/></a>"
      ]
    },
    {
      "cell_type": "code",
      "metadata": {
        "id": "Bu0I2z6x2iIK"
      },
      "source": [
        "import pandas as pd\n",
        "import numpy as np\n",
        "from sklearn.preprocessing import LabelEncoder\n",
        "df = pd.read_csv('https://raw.githubusercontent.com/dhivyapm/GRA/main/aspect_AAjN_emotion.csv',sep=',')"
      ],
      "execution_count": null,
      "outputs": []
    },
    {
      "cell_type": "code",
      "metadata": {
        "id": "BxxOEbapQWWG"
      },
      "source": [
        "df['emotions'] = df['emotions'].fillna('unknown')"
      ],
      "execution_count": null,
      "outputs": []
    },
    {
      "cell_type": "code",
      "metadata": {
        "id": "jzM3vzkyFBLI"
      },
      "source": [
        "y = pd.DataFrame(df['emotions'])"
      ],
      "execution_count": null,
      "outputs": []
    },
    {
      "cell_type": "code",
      "metadata": {
        "colab": {
          "base_uri": "https://localhost:8080/"
        },
        "id": "VxUU1vVvwxtI",
        "outputId": "4f448378-2818-48e3-8380-5e356e861716"
      },
      "source": [
        "enc = LabelEncoder()\n",
        "emotions = enc.fit_transform(y)"
      ],
      "execution_count": null,
      "outputs": [
        {
          "output_type": "stream",
          "text": [
            "/usr/local/lib/python3.7/dist-packages/sklearn/preprocessing/_label.py:251: DataConversionWarning: A column-vector y was passed when a 1d array was expected. Please change the shape of y to (n_samples, ), for example using ravel().\n",
            "  y = column_or_1d(y, warn=True)\n"
          ],
          "name": "stderr"
        }
      ]
    },
    {
      "cell_type": "code",
      "metadata": {
        "colab": {
          "base_uri": "https://localhost:8080/"
        },
        "id": "2sYMx6ZaR-kY",
        "outputId": "361a2a88-5ad1-42c0-fbdb-d68d38b594c9"
      },
      "source": [
        "emotions"
      ],
      "execution_count": null,
      "outputs": [
        {
          "output_type": "execute_result",
          "data": {
            "text/plain": [
              "array([5, 5, 2, ..., 1, 5, 5])"
            ]
          },
          "metadata": {
            "tags": []
          },
          "execution_count": 5
        }
      ]
    },
    {
      "cell_type": "code",
      "metadata": {
        "id": "QaM33WTmP0ti"
      },
      "source": [
        "in_emotions = enc.inverse_transform(emotions)"
      ],
      "execution_count": null,
      "outputs": []
    },
    {
      "cell_type": "code",
      "metadata": {
        "colab": {
          "base_uri": "https://localhost:8080/"
        },
        "id": "lcdak_8ZSCcj",
        "outputId": "6ea4c729-e7d8-40a9-c2dc-4662a9175703"
      },
      "source": [
        "in_emotions"
      ],
      "execution_count": null,
      "outputs": [
        {
          "output_type": "execute_result",
          "data": {
            "text/plain": [
              "array(['unknown', 'unknown', 'Happy', ..., 'Fear', 'unknown', 'unknown'],\n",
              "      dtype=object)"
            ]
          },
          "metadata": {
            "tags": []
          },
          "execution_count": 7
        }
      ]
    },
    {
      "cell_type": "code",
      "metadata": {
        "id": "lgh0Eix_w6nH"
      },
      "source": [
        "X = df.iloc[:,1].values\n",
        "y = emotions"
      ],
      "execution_count": null,
      "outputs": []
    },
    {
      "cell_type": "code",
      "metadata": {
        "id": "fTcFgoiiQj3P"
      },
      "source": [
        "from sklearn.model_selection import train_test_split\n",
        "from sklearn.feature_extraction.text import CountVectorizer\n",
        "from sklearn.neighbors import KNeighborsClassifier\n",
        "X_train, X_test, y_train, y_test = train_test_split(X, y, test_size = 0.15, random_state = 1)\n",
        "vect = CountVectorizer()\n",
        "vect.fit(X_train)\n",
        "X_train = vect.transform(X_train)\n",
        "X_test = vect.transform(X_test)"
      ],
      "execution_count": null,
      "outputs": []
    },
    {
      "cell_type": "code",
      "metadata": {
        "id": "YuTz3Pfs0SVf"
      },
      "source": [
        "X_t = vect.transform(X)"
      ],
      "execution_count": null,
      "outputs": []
    },
    {
      "cell_type": "code",
      "metadata": {
        "colab": {
          "base_uri": "https://localhost:8080/"
        },
        "id": "9cHDOWcjxChE",
        "outputId": "3d0ade18-1f5b-4fc1-aebe-8e6b476a8dd8"
      },
      "source": [
        "#using Sklearn library\n",
        "from sklearn.neighbors import KNeighborsClassifier\n",
        "from sklearn import metrics\n",
        "k_range = range(1, 10)\n",
        "\n",
        "# We can create Python dictionary using [] or dict()\n",
        "scores = []\n",
        "\n",
        "# We use a loop through the range 1 to 21\n",
        "# We append the scores in the dictionary\n",
        "knn = KNeighborsClassifier(n_neighbors=5, p=1, metric = 'euclidean')\n",
        "knn.fit(X_train, y_train)\n",
        "ne = knn.kneighbors(X_t[48], 5, return_distance =True)\n",
        "y_pred = knn.predict(X_t[48])\n",
        "#scores = metrics.accuracy_score(y_train[48], y_pred)\n",
        "print(ne)\n",
        "#print(scores)\n",
        "#print(y_pred)"
      ],
      "execution_count": null,
      "outputs": [
        {
          "output_type": "stream",
          "text": [
            "(array([[0.        , 1.41421356, 1.73205081, 1.73205081, 2.        ]]), array([[ 8656,  1828, 11566, 15062, 11235]]))\n"
          ],
          "name": "stdout"
        }
      ]
    },
    {
      "cell_type": "code",
      "metadata": {
        "colab": {
          "base_uri": "https://localhost:8080/"
        },
        "id": "8TGzyEcVxpqY",
        "outputId": "e995c3ab-63ae-4639-951a-b4d94fc0b9bb"
      },
      "source": [
        "vect.inverse_transform(X_t[48])"
      ],
      "execution_count": null,
      "outputs": [
        {
          "output_type": "execute_result",
          "data": {
            "text/plain": [
              "[array(['absolutely', 'beautiful', 'mountain'], dtype='<U22')]"
            ]
          },
          "metadata": {
            "tags": []
          },
          "execution_count": 238
        }
      ]
    },
    {
      "cell_type": "code",
      "metadata": {
        "colab": {
          "base_uri": "https://localhost:8080/"
        },
        "id": "G_UxvPNpAmv6",
        "outputId": "a8b9b4bc-6425-4591-e5b8-e66434c61a16"
      },
      "source": [
        "enc.inverse_transform(y_pred)"
      ],
      "execution_count": null,
      "outputs": [
        {
          "output_type": "execute_result",
          "data": {
            "text/plain": [
              "array(['Happy'], dtype=object)"
            ]
          },
          "metadata": {
            "tags": []
          },
          "execution_count": 239
        }
      ]
    },
    {
      "cell_type": "code",
      "metadata": {
        "colab": {
          "base_uri": "https://localhost:8080/"
        },
        "id": "rW2ix2Qfz3TH",
        "outputId": "0f0165b1-8dbb-4b86-c32f-d13da3c1a496"
      },
      "source": [
        "#using Sklearn library\n",
        "from sklearn.neighbors import KNeighborsClassifier\n",
        "from sklearn import metrics\n",
        "k_range = range(1, 10)\n",
        "\n",
        "# We can create Python dictionary using [] or dict()\n",
        "scores = []\n",
        "\n",
        "# We use a loop through the range 1 to 21\n",
        "# We append the scores in the dictionary\n",
        "knn = KNeighborsClassifier(n_neighbors=5, p=1, metric = 'euclidean')\n",
        "knn.fit(X_train, y_train)\n",
        "ne = knn.kneighbors(X_t[3159], 5, return_distance =True)\n",
        "y_pred1 = knn.predict(X_t[3159])\n",
        "#scores = metrics.accuracy_score(y_train[48], y_pred)\n",
        "print(ne)\n",
        "#print(scores)\n",
        "#print(y_pred)"
      ],
      "execution_count": null,
      "outputs": [
        {
          "output_type": "stream",
          "text": [
            "(array([[0.        , 1.41421356, 1.41421356, 1.41421356, 1.41421356]]), array([[14182, 12116, 10303,  2886, 11600]]))\n"
          ],
          "name": "stdout"
        }
      ]
    },
    {
      "cell_type": "code",
      "metadata": {
        "colab": {
          "base_uri": "https://localhost:8080/"
        },
        "id": "hl4VFw4sEUmM",
        "outputId": "90771d7a-7151-4fe4-8dee-233c276d2549"
      },
      "source": [
        "vect.inverse_transform(X_t[3159])"
      ],
      "execution_count": null,
      "outputs": [
        {
          "output_type": "execute_result",
          "data": {
            "text/plain": [
              "[array(['movie', 'pretty', 'unacceptable'], dtype='<U22')]"
            ]
          },
          "metadata": {
            "tags": []
          },
          "execution_count": 241
        }
      ]
    },
    {
      "cell_type": "code",
      "metadata": {
        "colab": {
          "base_uri": "https://localhost:8080/"
        },
        "id": "-OkdoYRfEZ6m",
        "outputId": "e8adb563-dde5-467c-a673-548af1d78852"
      },
      "source": [
        "enc.inverse_transform(y_pred1)"
      ],
      "execution_count": null,
      "outputs": [
        {
          "output_type": "execute_result",
          "data": {
            "text/plain": [
              "array(['Happy'], dtype=object)"
            ]
          },
          "metadata": {
            "tags": []
          },
          "execution_count": 242
        }
      ]
    },
    {
      "cell_type": "code",
      "metadata": {
        "colab": {
          "base_uri": "https://localhost:8080/"
        },
        "id": "NSLd0yImThoj",
        "outputId": "ad81bb72-8956-4d27-f29f-30b9c287afec"
      },
      "source": [
        "#using Sklearn library\n",
        "from sklearn.neighbors import KNeighborsClassifier\n",
        "from sklearn import metrics\n",
        "k_range = range(1, 10)\n",
        "\n",
        "# We can create Python dictionary using [] or dict()\n",
        "scores = []\n",
        "\n",
        "# We use a loop through the range 1 to 21\n",
        "# We append the scores in the dictionary\n",
        "knn = KNeighborsClassifier(n_neighbors=5, p=1, metric = 'euclidean')\n",
        "knn.fit(X_train, y_train)\n",
        "ne = knn.kneighbors(X_t[741], 5, return_distance =True)\n",
        "y_pred1 = knn.predict(X_t[741])\n",
        "#scores = metrics.accuracy_score(y_train[48], y_pred)\n",
        "print(ne)\n",
        "#print(scores)\n",
        "#print(y_pred)"
      ],
      "execution_count": null,
      "outputs": [
        {
          "output_type": "stream",
          "text": [
            "(array([[1.41421356, 1.41421356, 1.41421356, 1.41421356, 1.41421356]]), array([[15323,   621,  9852, 14140, 11340]]))\n"
          ],
          "name": "stdout"
        }
      ]
    },
    {
      "cell_type": "code",
      "metadata": {
        "colab": {
          "base_uri": "https://localhost:8080/"
        },
        "id": "M-SpesF-Tm7n",
        "outputId": "8f926a9b-e015-436e-80a9-b3781d5ba478"
      },
      "source": [
        "vect.inverse_transform(X_t[741])"
      ],
      "execution_count": null,
      "outputs": [
        {
          "output_type": "execute_result",
          "data": {
            "text/plain": [
              "[array(['bad', 'movie', 'really'], dtype='<U22')]"
            ]
          },
          "metadata": {
            "tags": []
          },
          "execution_count": 244
        }
      ]
    },
    {
      "cell_type": "code",
      "metadata": {
        "colab": {
          "base_uri": "https://localhost:8080/"
        },
        "id": "mFlnS3zNTp83",
        "outputId": "365ea261-cd1f-4731-b418-6ce24fff64f4"
      },
      "source": [
        "enc.inverse_transform(y_pred1)"
      ],
      "execution_count": null,
      "outputs": [
        {
          "output_type": "execute_result",
          "data": {
            "text/plain": [
              "array(['Surprise'], dtype=object)"
            ]
          },
          "metadata": {
            "tags": []
          },
          "execution_count": 245
        }
      ]
    },
    {
      "cell_type": "code",
      "metadata": {
        "colab": {
          "base_uri": "https://localhost:8080/"
        },
        "id": "lyAEGreQTr9Q",
        "outputId": "b4dd385b-761e-45b3-9585-f3c3f1a021da"
      },
      "source": [
        "#using Sklearn library\n",
        "from sklearn.neighbors import KNeighborsClassifier\n",
        "from sklearn import metrics\n",
        "k_range = range(1, 10)\n",
        "\n",
        "# We can create Python dictionary using [] or dict()\n",
        "scores = []\n",
        "\n",
        "# We use a loop through the range 1 to 21\n",
        "# We append the scores in the dictionary\n",
        "knn = KNeighborsClassifier(n_neighbors=5, p=1, metric = 'euclidean')\n",
        "knn.fit(X_train, y_train)\n",
        "ne = knn.kneighbors(X_t[3114], 5, return_distance =True)\n",
        "y_pred1 = knn.predict(X_t[3114])\n",
        "#scores = metrics.accuracy_score(y_train[48], y_pred)\n",
        "print(ne)\n",
        "#print(scores)\n",
        "#print(y_pred)"
      ],
      "execution_count": null,
      "outputs": [
        {
          "output_type": "stream",
          "text": [
            "(array([[0.        , 1.41421356, 1.41421356, 1.41421356, 1.41421356]]), array([[15896, 13496, 15378, 15434,  3561]]))\n"
          ],
          "name": "stdout"
        }
      ]
    },
    {
      "cell_type": "code",
      "metadata": {
        "colab": {
          "base_uri": "https://localhost:8080/"
        },
        "id": "gkCFWdA5T2Yr",
        "outputId": "dc357e76-8d53-4aae-de5e-12ff73fb18f5"
      },
      "source": [
        "vect.inverse_transform(X_t[3114])"
      ],
      "execution_count": null,
      "outputs": [
        {
          "output_type": "execute_result",
          "data": {
            "text/plain": [
              "[array(['good', 'job', 'pretty'], dtype='<U22')]"
            ]
          },
          "metadata": {
            "tags": []
          },
          "execution_count": 247
        }
      ]
    },
    {
      "cell_type": "code",
      "metadata": {
        "colab": {
          "base_uri": "https://localhost:8080/"
        },
        "id": "CcdrVusxT3it",
        "outputId": "70d0573e-360a-4ac8-cd71-9f87529c5f54"
      },
      "source": [
        "enc.inverse_transform(y_pred1)"
      ],
      "execution_count": null,
      "outputs": [
        {
          "output_type": "execute_result",
          "data": {
            "text/plain": [
              "array(['Happy'], dtype=object)"
            ]
          },
          "metadata": {
            "tags": []
          },
          "execution_count": 248
        }
      ]
    },
    {
      "cell_type": "code",
      "metadata": {
        "colab": {
          "base_uri": "https://localhost:8080/"
        },
        "id": "wo7GioJZUAjS",
        "outputId": "d008fc93-d73b-41b5-9273-0b578912d4e3"
      },
      "source": [
        "#using Sklearn library\n",
        "from sklearn.neighbors import KNeighborsClassifier\n",
        "from sklearn import metrics\n",
        "k_range = range(1, 10)\n",
        "\n",
        "# We can create Python dictionary using [] or dict()\n",
        "scores = []\n",
        "\n",
        "# We use a loop through the range 1 to 21\n",
        "# We append the scores in the dictionary\n",
        "knn = KNeighborsClassifier(n_neighbors=5, p=1, metric = 'euclidean')\n",
        "knn.fit(X_train, y_train)\n",
        "ne = knn.kneighbors(X_t[294], 5, return_distance =True)\n",
        "y_pred1 = knn.predict(X_t[294])\n",
        "#scores = metrics.accuracy_score(y_train[48], y_pred)\n",
        "print(ne)\n",
        "#print(scores)\n",
        "#print(y_pred)"
      ],
      "execution_count": null,
      "outputs": [
        {
          "output_type": "stream",
          "text": [
            "(array([[0.        , 1.41421356, 1.41421356, 1.41421356, 1.41421356]]), array([[2886, 6631, 8651, 6450, 9391]]))\n"
          ],
          "name": "stdout"
        }
      ]
    },
    {
      "cell_type": "code",
      "metadata": {
        "colab": {
          "base_uri": "https://localhost:8080/"
        },
        "id": "f9FSrbp_UK35",
        "outputId": "01cc22ed-fe79-40d1-8c53-495ead11ae00"
      },
      "source": [
        "vect.inverse_transform(X_t[294])"
      ],
      "execution_count": null,
      "outputs": [
        {
          "output_type": "execute_result",
          "data": {
            "text/plain": [
              "[array(['good', 'movie', 'pretty'], dtype='<U22')]"
            ]
          },
          "metadata": {
            "tags": []
          },
          "execution_count": 250
        }
      ]
    },
    {
      "cell_type": "code",
      "metadata": {
        "colab": {
          "base_uri": "https://localhost:8080/"
        },
        "id": "l8S0TV_TUMaG",
        "outputId": "b904b87d-cf08-4d7e-e149-7b31203c44f1"
      },
      "source": [
        "enc.inverse_transform(y_pred1)"
      ],
      "execution_count": null,
      "outputs": [
        {
          "output_type": "execute_result",
          "data": {
            "text/plain": [
              "array(['Happy'], dtype=object)"
            ]
          },
          "metadata": {
            "tags": []
          },
          "execution_count": 251
        }
      ]
    },
    {
      "cell_type": "code",
      "metadata": {
        "colab": {
          "base_uri": "https://localhost:8080/"
        },
        "id": "klostWpcUXQm",
        "outputId": "664ab41f-54bd-4a1a-abd4-631cafb65bb4"
      },
      "source": [
        "#using Sklearn library\n",
        "from sklearn.neighbors import KNeighborsClassifier\n",
        "from sklearn import metrics\n",
        "k_range = range(1, 10)\n",
        "\n",
        "# We can create Python dictionary using [] or dict()\n",
        "scores = []\n",
        "\n",
        "# We use a loop through the range 1 to 21\n",
        "# We append the scores in the dictionary\n",
        "knn = KNeighborsClassifier(n_neighbors=5, p=1, metric = 'euclidean')\n",
        "knn.fit(X_train, y_train)\n",
        "ne = knn.kneighbors(X_t[5522], 5, return_distance =True)\n",
        "y_pred1 = knn.predict(X_t[5522])\n",
        "#scores = metrics.accuracy_score(y_train[48], y_pred)\n",
        "print(ne)\n",
        "#print(scores)\n",
        "#print(y_pred)"
      ],
      "execution_count": null,
      "outputs": [
        {
          "output_type": "stream",
          "text": [
            "(array([[0.        , 1.41421356, 1.41421356, 1.41421356, 1.41421356]]), array([[10828,  3087, 13219, 13210,  7135]]))\n"
          ],
          "name": "stdout"
        }
      ]
    },
    {
      "cell_type": "code",
      "metadata": {
        "colab": {
          "base_uri": "https://localhost:8080/"
        },
        "id": "3oSWosfTUiUV",
        "outputId": "d4375ff9-a329-40b3-a49d-767a7b40a357"
      },
      "source": [
        "vect.inverse_transform(X_t[5522])"
      ],
      "execution_count": null,
      "outputs": [
        {
          "output_type": "execute_result",
          "data": {
            "text/plain": [
              "[array(['time', 'well', 'worth'], dtype='<U22')]"
            ]
          },
          "metadata": {
            "tags": []
          },
          "execution_count": 253
        }
      ]
    },
    {
      "cell_type": "code",
      "metadata": {
        "colab": {
          "base_uri": "https://localhost:8080/"
        },
        "id": "DEX43DJiUnM-",
        "outputId": "297e761c-9d22-48dc-a9e9-c670ed0aa80c"
      },
      "source": [
        "enc.inverse_transform(y_pred1)"
      ],
      "execution_count": null,
      "outputs": [
        {
          "output_type": "execute_result",
          "data": {
            "text/plain": [
              "array(['Fear'], dtype=object)"
            ]
          },
          "metadata": {
            "tags": []
          },
          "execution_count": 254
        }
      ]
    },
    {
      "cell_type": "code",
      "metadata": {
        "colab": {
          "base_uri": "https://localhost:8080/"
        },
        "id": "QwQ8AzXtUrDC",
        "outputId": "87b45b83-42a2-48fd-af12-de2b563c1c72"
      },
      "source": [
        "#using Sklearn library\n",
        "from sklearn.neighbors import KNeighborsClassifier\n",
        "from sklearn import metrics\n",
        "k_range = range(1, 10)\n",
        "\n",
        "# We can create Python dictionary using [] or dict()\n",
        "scores = []\n",
        "\n",
        "# We use a loop through the range 1 to 21\n",
        "# We append the scores in the dictionary\n",
        "knn = KNeighborsClassifier(n_neighbors=5, p=1, metric = 'euclidean')\n",
        "knn.fit(X_train, y_train)\n",
        "ne = knn.kneighbors(X_t[15522], 5, return_distance =True)\n",
        "\n",
        "#scores = metrics.accuracy_score(y_train[48], y_pred)\n",
        "print(ne)\n",
        "#print(scores)\n",
        "#print(y_pred)"
      ],
      "execution_count": null,
      "outputs": [
        {
          "output_type": "stream",
          "text": [
            "(array([[1.41421356, 1.41421356, 1.41421356, 1.73205081, 2.        ]]), array([[ 3175,  1753,  8176, 11748, 11619]]))\n"
          ],
          "name": "stdout"
        }
      ]
    },
    {
      "cell_type": "code",
      "metadata": {
        "id": "40WhT24DXCkV"
      },
      "source": [
        "y_pred1 = knn.predict(X_t[15522])"
      ],
      "execution_count": null,
      "outputs": []
    },
    {
      "cell_type": "code",
      "metadata": {
        "colab": {
          "base_uri": "https://localhost:8080/"
        },
        "id": "La4xdT9WU4nX",
        "outputId": "260f7dcb-b00b-4dc9-a8df-7841c01e65d7"
      },
      "source": [
        "vect.inverse_transform(X_t[15522])"
      ],
      "execution_count": null,
      "outputs": [
        {
          "output_type": "execute_result",
          "data": {
            "text/plain": [
              "[array(['charm', 'far', 'ha'], dtype='<U22')]"
            ]
          },
          "metadata": {
            "tags": []
          },
          "execution_count": 302
        }
      ]
    },
    {
      "cell_type": "code",
      "metadata": {
        "colab": {
          "base_uri": "https://localhost:8080/"
        },
        "id": "o2U0-I8RU70c",
        "outputId": "df5d0f47-8421-4a07-f363-a755ec121fdc"
      },
      "source": [
        "enc.inverse_transform(y_pred1)"
      ],
      "execution_count": null,
      "outputs": [
        {
          "output_type": "execute_result",
          "data": {
            "text/plain": [
              "array(['Fear'], dtype=object)"
            ]
          },
          "metadata": {
            "tags": []
          },
          "execution_count": 303
        }
      ]
    },
    {
      "cell_type": "code",
      "metadata": {
        "colab": {
          "base_uri": "https://localhost:8080/"
        },
        "id": "TEjH_D2pU9_3",
        "outputId": "6776b8f9-ed2d-4c10-c37e-655edce5cdd7"
      },
      "source": [
        "#using Sklearn library\n",
        "from sklearn.neighbors import KNeighborsClassifier\n",
        "from sklearn import metrics\n",
        "k_range = range(1, 10)\n",
        "\n",
        "# We can create Python dictionary using [] or dict()\n",
        "scores = []\n",
        "\n",
        "# We use a loop through the range 1 to 21\n",
        "# We append the scores in the dictionary\n",
        "knn = KNeighborsClassifier(n_neighbors=5, p=1, metric = 'euclidean')\n",
        "knn.fit(X_train, y_train)\n",
        "ne = knn.kneighbors(X_t[3182], 5, return_distance =True)\n",
        "\n",
        "#scores = metrics.accuracy_score(y_train[48], y_pred)\n",
        "print(ne)\n",
        "#print(scores)\n",
        "#print(y_pred)"
      ],
      "execution_count": null,
      "outputs": [
        {
          "output_type": "stream",
          "text": [
            "(array([[0., 2., 2., 2., 2.]]), array([[ 5589,  2826, 12197, 16126, 13172]]))\n"
          ],
          "name": "stdout"
        }
      ]
    },
    {
      "cell_type": "code",
      "metadata": {
        "id": "BXf8AybrVj4P"
      },
      "source": [
        "y_pred1 = knn.predict(X_t[3182])"
      ],
      "execution_count": null,
      "outputs": []
    },
    {
      "cell_type": "code",
      "metadata": {
        "colab": {
          "base_uri": "https://localhost:8080/"
        },
        "id": "mzdbI4bHDjCe",
        "outputId": "0cf3625d-5f2d-4ef3-a4db-c0bd9b17c9e5"
      },
      "source": [
        "enc.inverse_transform(y_pred1)"
      ],
      "execution_count": null,
      "outputs": [
        {
          "output_type": "execute_result",
          "data": {
            "text/plain": [
              "array(['Fear'], dtype=object)"
            ]
          },
          "metadata": {
            "tags": []
          },
          "execution_count": 67
        }
      ]
    },
    {
      "cell_type": "code",
      "metadata": {
        "id": "X62QjEy-Dm_S"
      },
      "source": [
        ""
      ],
      "execution_count": null,
      "outputs": []
    }
  ]
}