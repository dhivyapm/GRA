{
 "cells": [
  {
   "cell_type": "code",
   "execution_count": 3,
   "metadata": {},
   "outputs": [
    {
     "name": "stderr",
     "output_type": "stream",
     "text": [
      "2021-02-11 17:50:19 INFO: Loading these models for language: en (English):\n",
      "=========================\n",
      "| Processor | Package   |\n",
      "-------------------------\n",
      "| tokenize  | combined  |\n",
      "| pos       | combined  |\n",
      "| lemma     | combined  |\n",
      "| depparse  | combined  |\n",
      "| sentiment | sstplus   |\n",
      "| ner       | ontonotes |\n",
      "=========================\n",
      "\n",
      "2021-02-11 17:50:19 INFO: Use device: cpu\n",
      "2021-02-11 17:50:19 INFO: Loading: tokenize\n",
      "2021-02-11 17:50:19 INFO: Loading: pos\n",
      "2021-02-11 17:50:20 INFO: Loading: lemma\n",
      "2021-02-11 17:50:20 INFO: Loading: depparse\n",
      "2021-02-11 17:50:20 INFO: Loading: sentiment\n",
      "2021-02-11 17:50:21 INFO: Loading: ner\n",
      "2021-02-11 17:50:21 INFO: Done loading processors!\n"
     ]
    }
   ],
   "source": [
    "import pandas as pd\n",
    "import spacy\n",
    "import numpy as np\n",
    "import stanza\n",
    "nlp = stanza.Pipeline()\n",
    "#nlp = spacy.load('en_core_web_sm')"
   ]
  },
  {
   "cell_type": "code",
   "execution_count": 4,
   "metadata": {},
   "outputs": [
    {
     "data": {
      "text/plain": [
       "'first heard eddie murphy wa going star haunted mansion wa initially disappointed former intern disney world haunted mansion fan wanted serious scary look story surround awesome attraction thought many haunted house movie recently bombed haunting house haunted hill lighter comedic approach haunted mansion may better think case necessarily scariest movie funniest good mix make good unique movie family honestly think movie combine horror type genre family genre saw theater packed full family people laughed gasped clapped end tie ride nice beginning film enjoyed ominous organ music whisked back ride singing bust awesome jennifer tilly great job madame leota really need mention special effect mighty impressive nevertheless movie perfect one story intriguing found bored time acting wa kind stiff rigid unintentionally evers family though good family movie unlike movie imdb rating yahoo grade b good'"
      ]
     },
     "execution_count": 4,
     "metadata": {},
     "output_type": "execute_result"
    }
   ],
   "source": [
    "df = pd.read_csv('dataset.csv',sep=',')\n",
    "df['clean'][1]"
   ]
  },
  {
   "cell_type": "code",
   "execution_count": 6,
   "metadata": {},
   "outputs": [
    {
     "name": "stdout",
     "output_type": "stream",
     "text": [
      "[['first', 'ADV'], ['heard', 'VERB'], ['eddie', 'NOUN'], ['murphy', 'NOUN'], ['wa', 'ADP'], ['going', 'VERB'], ['star', 'NOUN'], ['haunted', 'VERB'], ['mansion', 'NOUN'], ['wa', 'ADV'], ['initially', 'ADV'], ['disappointed', 'VERB'], ['former', 'ADJ'], ['intern', 'NOUN'], ['disney', 'NOUN'], ['world', 'NOUN'], ['haunted', 'VERB'], ['mansion', 'NOUN'], ['fan', 'NOUN'], ['wanted', 'VERB'], ['serious', 'ADJ'], ['scary', 'ADJ'], ['look', 'NOUN'], ['story', 'NOUN'], ['surround', 'VERB'], ['awesome', 'ADJ'], ['attraction', 'NOUN'], ['thought', 'VERB'], ['many', 'ADJ'], ['haunted', 'ADJ'], ['house', 'NOUN'], ['movie', 'NOUN'], ['recently', 'ADV'], ['bombed', 'VERB'], ['haunting', 'VERB'], ['house', 'NOUN'], ['haunted', 'VERB'], ['hill', 'NOUN'], ['lighter', 'ADJ'], ['comedic', 'ADJ'], ['approach', 'NOUN'], ['haunted', 'VERB'], ['mansion', 'NOUN'], ['may', 'AUX'], ['better', 'ADV'], ['think', 'VERB'], ['case', 'NOUN'], ['necessarily', 'ADV'], ['scariest', 'ADJ'], ['movie', 'NOUN'], ['funniest', 'NOUN'], ['good', 'ADJ'], ['mix', 'NOUN'], ['make', 'VERB'], ['good', 'ADJ'], ['unique', 'ADJ'], ['movie', 'NOUN'], ['family', 'NOUN'], ['honestly', 'ADV'], ['think', 'VERB'], ['movie', 'NOUN'], ['combine', 'VERB'], ['horror', 'NOUN'], ['type', 'NOUN'], ['genre', 'NOUN'], ['family', 'NOUN'], ['genre', 'NOUN'], ['saw', 'VERB'], ['theater', 'NOUN'], ['packed', 'VERB'], ['full', 'ADJ'], ['family', 'NOUN'], ['people', 'NOUN'], ['laughed', 'VERB'], ['gasped', 'VERB'], ['clapped', 'VERB'], ['end', 'NOUN'], ['tie', 'NOUN'], ['ride', 'VERB'], ['nice', 'ADJ'], ['beginning', 'NOUN'], ['film', 'NOUN'], ['enjoyed', 'VERB'], ['ominous', 'ADJ'], ['organ', 'NOUN'], ['music', 'NOUN'], ['whisked', 'VERB'], ['back', 'ADP'], ['ride', 'NOUN'], ['singing', 'NOUN'], ['bust', 'NOUN'], ['awesome', 'ADJ'], ['jennifer', 'VERB'], ['tilly', 'ADV'], ['great', 'ADJ'], ['job', 'NOUN'], ['madame', 'NOUN'], ['leota', 'NOUN'], ['really', 'ADV'], ['need', 'VERB'], ['mention', 'NOUN'], ['special', 'ADJ'], ['effect', 'NOUN'], ['mighty', 'ADV'], ['impressive', 'ADJ'], ['nevertheless', 'ADJ'], ['movie', 'NOUN'], ['perfect', 'ADJ'], ['one', 'NUM'], ['story', 'NOUN'], ['intriguing', 'VERB'], ['found', 'VERB'], ['bored', 'ADJ'], ['time', 'NOUN'], ['acting', 'VERB'], ['wa', 'NOUN'], ['kind', 'VERB'], ['stiff', 'ADJ'], ['rigid', 'ADJ'], ['unintentionally', 'ADJ'], ['evers', 'NOUN'], ['family', 'NOUN'], ['though', 'SCONJ'], ['good', 'ADJ'], ['family', 'NOUN'], ['movie', 'NOUN'], ['unlike', 'ADP'], ['movie', 'NOUN'], ['imdb', 'NOUN'], ['rating', 'NOUN'], ['yahoo', 'NOUN'], ['grade', 'NOUN'], ['b', 'NOUN'], ['good', 'ADJ']]\n"
     ]
    }
   ],
   "source": [
    "doc = nlp(df['clean'][1])\n",
    "token = [token.text for token in doc]\n",
    "tagglist = []\n",
    "for token in doc:\n",
    "    tagglist.append([token.text,token.pos_])\n",
    "print(tagglist)"
   ]
  },
  {
   "cell_type": "code",
   "execution_count": 7,
   "metadata": {},
   "outputs": [
    {
     "name": "stderr",
     "output_type": "stream",
     "text": [
      "2021-02-11 17:52:35 INFO: Loading these models for language: en (English):\n",
      "=========================\n",
      "| Processor | Package   |\n",
      "-------------------------\n",
      "| tokenize  | combined  |\n",
      "| pos       | combined  |\n",
      "| lemma     | combined  |\n",
      "| depparse  | combined  |\n",
      "| sentiment | sstplus   |\n",
      "| ner       | ontonotes |\n",
      "=========================\n",
      "\n",
      "2021-02-11 17:52:35 INFO: Use device: cpu\n",
      "2021-02-11 17:52:35 INFO: Loading: tokenize\n",
      "2021-02-11 17:52:35 INFO: Loading: pos\n",
      "2021-02-11 17:52:35 INFO: Loading: lemma\n",
      "2021-02-11 17:52:35 INFO: Loading: depparse\n",
      "2021-02-11 17:52:36 INFO: Loading: sentiment\n",
      "2021-02-11 17:52:37 INFO: Loading: ner\n",
      "2021-02-11 17:52:38 INFO: Done loading processors!\n"
     ]
    },
    {
     "name": "stdout",
     "output_type": "stream",
     "text": [
      "[['first', 'heard', 'advmod'], ['heard', 'eddie', 'amod'], ['eddie', 'disappointed', 'nsubj'], ['murphy', 'eddie', 'flat'], ['wa', 'eddie', 'flat'], ['going', 'mansion', 'amod'], ['star', 'mansion', 'compound'], ['haunted', 'mansion', 'amod'], ['mansion', 'disappointed', 'nsubj'], ['wa', 'disappointed', 'nsubj'], ['initially', 'disappointed', 'advmod'], ['disappointed', 'ROOT', 'root'], ['former', 'fan', 'amod'], ['intern', 'fan', 'compound'], ['disney', 'world', 'compound'], ['world', 'fan', 'compound'], ['haunted', 'fan', 'amod'], ['mansion', 'fan', 'compound'], ['fan', 'wanted', 'nsubj'], ['wanted', 'disappointed', 'parataxis'], ['serious', 'story', 'amod'], ['scary', 'story', 'amod'], ['look', 'story', 'compound'], ['story', 'wanted', 'obj'], ['surround', 'attraction', 'amod'], ['awesome', 'attraction', 'amod'], ['attraction', 'thought', 'nsubj'], ['thought', 'disappointed', 'conj'], ['many', 'movie', 'amod'], ['haunted', 'house', 'amod'], ['house', 'movie', 'compound'], ['movie', 'bombed', 'nsubj'], ['recently', 'bombed', 'advmod'], ['bombed', 'thought', 'ccomp'], ['haunting', 'house', 'amod'], ['house', 'bombed', 'obj'], ['haunted', 'approach', 'amod'], ['hill', 'lighter', 'advmod'], ['lighter', 'approach', 'amod'], ['comedic', 'approach', 'amod'], ['approach', 'bombed', 'obj'], ['haunted', 'approach', 'amod'], ['mansion', 'think', 'nsubj'], ['may', 'think', 'aux'], ['better', 'think', 'aux'], ['think', 'disappointed', 'conj'], ['case', 'movie', 'compound'], ['necessarily', 'scariest', 'advmod'], ['scariest', 'movie', 'amod'], ['movie', 'mix', 'compound'], ['funniest', 'mix', 'amod'], ['good', 'mix', 'amod'], ['mix', 'make', 'nsubj'], ['make', 'think', 'parataxis'], ['good', 'family', 'amod'], ['unique', 'family', 'amod'], ['movie', 'family', 'compound'], ['family', 'make', 'obj'], ['honestly', 'think', 'advmod'], ['think', 'make', 'parataxis'], ['movie', 'combine', 'compound'], ['combine', 'type', 'compound'], ['horror', 'type', 'compound'], ['type', 'genre', 'compound'], ['genre', 'genre', 'compound'], ['family', 'genre', 'compound'], ['genre', 'saw', 'nsubj'], ['saw', 'think', 'ccomp'], ['theater', 'packed', 'compound'], ['packed', 'family', 'amod'], ['full', 'family', 'amod'], ['family', 'gasped', 'nsubj'], ['people', 'laughed', 'nsubj'], ['laughed', 'family', 'acl:relcl'], ['gasped', 'clapped', 'parataxis'], ['clapped', 'saw', 'conj'], ['end', 'ride', 'compound'], ['tie', 'ride', 'compound'], ['ride', 'film', 'compound'], ['nice', 'film', 'amod'], ['beginning', 'film', 'compound'], ['film', 'enjoyed', 'nsubj'], ['enjoyed', 'clapped', 'parataxis'], ['ominous', 'music', 'amod'], ['organ', 'music', 'compound'], ['music', 'enjoyed', 'obj'], ['whisked', 'enjoyed', 'xcomp'], ['back', 'ride', 'advmod'], ['ride', 'whisked', 'obl'], ['singing', 'enjoyed', 'advcl'], ['bust', 'singing', 'obj'], ['awesome', 'madame', 'amod'], ['jennifer', 'madame', 'compound'], ['tilly', 'madame', 'compound'], ['great', 'madame', 'amod'], ['job', 'madame', 'compound'], ['madame', 'need', 'nsubj'], ['leota', 'need', 'nsubj'], ['really', 'need', 'advmod'], ['need', 'enjoyed', 'conj'], ['mention', 'need', 'xcomp'], ['special', 'effect', 'amod'], ['effect', 'mention', 'obj'], ['mighty', 'impressive', 'advmod'], ['impressive', 'effect', 'amod'], ['nevertheless', 'intriguing', 'advmod'], ['movie', 'intriguing', 'nsubj'], ['perfect', 'story', 'amod'], ['one', 'story', 'nummod'], ['story', 'intriguing', 'nsubj'], ['intriguing', 'time', 'amod'], ['found', 'effect', 'acl'], ['bored', 'time', 'amod'], ['time', 'found', 'obj'], ['acting', 'found', 'advcl'], ['wa', 'acting', 'obj'], ['kind', 'stiff', 'advmod'], ['stiff', 'family', 'amod'], ['rigid', 'family', 'amod'], ['unintentionally', 'stiff', 'advmod'], ['evers', 'family', 'compound'], ['family', 'acting', 'obj'], ['though', 'movie', 'advmod'], ['good', 'movie', 'amod'], ['family', 'movie', 'compound'], ['movie', 'acting', 'obj'], ['unlike', 'rating', 'case'], ['movie', 'rating', 'compound'], ['imdb', 'rating', 'compound'], ['rating', 'good', 'obl'], ['yahoo', 'good', 'compound'], ['grade', 'b', 'compound'], ['b', 'good', 'compound'], ['good', 'movie', 'acl:relcl']]\n"
     ]
    }
   ],
   "source": [
    "nlp = stanza.Pipeline()\n",
    "doc = nlp(df['clean'][1])\n",
    "dep_node = []\n",
    "for dep_edge in doc.sentences[0].dependencies:\n",
    "    dep_node.append([dep_edge[2].text, dep_edge[0].text, dep_edge[1]])\n",
    "print(dep_node)"
   ]
  },
  {
   "cell_type": "code",
   "execution_count": 8,
   "metadata": {},
   "outputs": [
    {
     "name": "stdout",
     "output_type": "stream",
     "text": [
      "feature list: [['former', 'ADJ'], ['intern', 'NOUN'], ['scary', 'ADJ'], ['look', 'NOUN'], ['awesome', 'ADJ'], ['attraction', 'NOUN'], ['haunted', 'ADJ'], ['house', 'NOUN'], ['comedic', 'ADJ'], ['approach', 'NOUN'], ['scariest', 'ADJ'], ['movie', 'NOUN'], ['good', 'ADJ'], ['mix', 'NOUN'], ['unique', 'ADJ'], ['movie', 'NOUN'], ['full', 'ADJ'], ['family', 'NOUN'], ['nice', 'ADJ'], ['beginning', 'NOUN'], ['ominous', 'ADJ'], ['organ', 'NOUN'], ['great', 'ADJ'], ['job', 'NOUN'], ['special', 'ADJ'], ['effect', 'NOUN'], ['nevertheless', 'ADJ'], ['movie', 'NOUN'], ['bored', 'ADJ'], ['time', 'NOUN'], ['unintentionally', 'ADJ'], ['evers', 'NOUN'], ['good', 'ADJ'], ['family', 'NOUN']] \n",
      "\n",
      "category list: ['former', 'intern', 'scary', 'look', 'awesome', 'attraction', 'haunted', 'house', 'comedic', 'approach', 'scariest', 'movie', 'good', 'mix', 'unique', 'movie', 'full', 'family', 'nice', 'beginning', 'ominous', 'organ', 'great', 'job', 'special', 'effect', 'nevertheless', 'movie', 'bored', 'time', 'unintentionally', 'evers', 'good', 'family']\n"
     ]
    }
   ],
   "source": [
    "categoryList = []\n",
    "featureList = []\n",
    "for i in range(0,len(tagglist)-1):\n",
    "    if(tagglist[i][1]==\"ADJ\" and tagglist[i+1][1]==\"NOUN\"):\n",
    "        featureList.append(tagglist[i])\n",
    "        categoryList.append(tagglist[i][0])\n",
    "        featureList.append(tagglist[i+1])\n",
    "        categoryList.append(tagglist[i+1][0])\n",
    "print('feature list:',featureList,'\\n')\n",
    "print('category list:',categoryList)"
   ]
  },
  {
   "cell_type": "code",
   "execution_count": 9,
   "metadata": {},
   "outputs": [
    {
     "name": "stdout",
     "output_type": "stream",
     "text": [
      "[['former', ['fan']], ['intern', ['fan']], ['scary', ['story']], ['look', ['story']], ['awesome', ['attraction', 'madame']], ['attraction', ['surround', 'awesome', 'thought']], ['haunted', ['mansion', 'fan', 'house', 'approach', 'approach']], ['house', ['haunted', 'movie', 'haunting', 'bombed']], ['comedic', ['approach']], ['approach', ['haunted', 'lighter', 'comedic', 'bombed', 'haunted']], ['scariest', ['necessarily', 'movie']], ['movie', ['many', 'house', 'bombed', 'case', 'scariest', 'mix', 'family', 'combine', 'intriguing', 'though', 'good', 'family', 'acting', 'rating']], ['good', ['mix', 'family', 'movie', 'yahoo', 'b']], ['mix', ['movie', 'funniest', 'good', 'make']], ['unique', ['family']], ['movie', ['many', 'house', 'bombed', 'case', 'scariest', 'mix', 'family', 'combine', 'intriguing', 'though', 'good', 'family', 'acting', 'rating']], ['full', ['family']], ['family', ['good', 'unique', 'movie', 'make', 'genre', 'packed', 'full', 'gasped', 'stiff', 'rigid', 'evers', 'acting', 'movie']], ['nice', ['film']], ['beginning', ['film']], ['ominous', ['music']], ['organ', ['music']], ['great', ['madame']], ['job', ['madame']], ['special', ['effect']], ['effect', ['special', 'mention', 'impressive']], ['nevertheless', ['intriguing']], ['movie', ['many', 'house', 'bombed', 'case', 'scariest', 'mix', 'family', 'combine', 'intriguing', 'though', 'good', 'family', 'acting', 'rating']], ['bored', ['time']], ['time', ['intriguing', 'bored', 'found']], ['unintentionally', ['stiff']], ['evers', ['family']], ['good', ['mix', 'family', 'movie', 'yahoo', 'b']], ['family', ['good', 'unique', 'movie', 'make', 'genre', 'packed', 'full', 'gasped', 'stiff', 'rigid', 'evers', 'acting', 'movie']]] \n",
      "\n",
      "['former', 'intern', 'scary', 'look', 'awesome', 'attraction', 'haunted', 'house', 'comedic', 'approach', 'scariest', 'movie', 'good', 'mix', 'unique', 'movie', 'full', 'family', 'nice', 'beginning', 'ominous', 'organ', 'great', 'job', 'special', 'effect', 'nevertheless', 'movie', 'bored', 'time', 'unintentionally', 'evers', 'good', 'family']\n"
     ]
    }
   ],
   "source": [
    "from collections import Counter\n",
    "fcluster = []\n",
    "feature_list = []\n",
    "for i in featureList:\n",
    "    filist = []\n",
    "    for j in dep_node:\n",
    "        # nsubj ------- subject\n",
    "        # acl:relcl --- relative clause modifier\n",
    "        # obj --------- object\n",
    "        # dobj -------- direct object of a verb is the noun phrase\n",
    "        # advmod ------ adverbial phrase that serves to modify a verb\n",
    "        # amod -------- adjectival phrase that serves to modify the noun\n",
    "        # compound ---- two or more words\n",
    "        if((j[0]==i[0] or j[1]==i[0]) and (j[2] in [\"nsubj\", \"obj\", \"advmod\",\"amod\",\"compound\"])):\n",
    "            if(j[0]==i[0]):\n",
    "                filist.append(j[1])\n",
    "            else:\n",
    "                filist.append(j[0])\n",
    "# appending the category list with list of \"nsubj\", \"obj\", \"dobj\", \"advmod\",\"amod\",\"compound\"\n",
    "    fcluster.append([i[0], filist])\n",
    "    feature_list.append(i[0])# without the dependency list\n",
    "print(fcluster,'\\n')\n",
    "print(feature_list)"
   ]
  },
  {
   "cell_type": "code",
   "execution_count": 11,
   "metadata": {},
   "outputs": [],
   "source": [
    "freq_feature = Counter(feature_list).most_common(5) #getting frequent 5 "
   ]
  },
  {
   "cell_type": "code",
   "execution_count": 12,
   "metadata": {},
   "outputs": [
    {
     "data": {
      "text/plain": [
       "[('movie', 3), ('good', 2), ('family', 2), ('former', 1), ('intern', 1)]"
      ]
     },
     "execution_count": 12,
     "metadata": {},
     "output_type": "execute_result"
    }
   ],
   "source": [
    "freq_feature"
   ]
  }
 ],
 "metadata": {
  "kernelspec": {
   "display_name": "Python 3",
   "language": "python",
   "name": "python3"
  },
  "language_info": {
   "codemirror_mode": {
    "name": "ipython",
    "version": 3
   },
   "file_extension": ".py",
   "mimetype": "text/x-python",
   "name": "python",
   "nbconvert_exporter": "python",
   "pygments_lexer": "ipython3",
   "version": "3.8.5"
  }
 },
 "nbformat": 4,
 "nbformat_minor": 4
}
