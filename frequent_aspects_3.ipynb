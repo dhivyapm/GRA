{
 "cells": [
  {
   "cell_type": "code",
   "execution_count": 1,
   "metadata": {},
   "outputs": [],
   "source": [
    "import pandas as pd\n",
    "from textblob import TextBlob, Word\n",
    "import nltk\n",
    "data = pd.read_csv('imdb_dataset.csv',sep=',')"
   ]
  },
  {
   "cell_type": "code",
   "execution_count": 2,
   "metadata": {},
   "outputs": [],
   "source": [
    "data.head(4)\n",
    "data1 = data.iloc[:10000]"
   ]
  },
  {
   "cell_type": "code",
   "execution_count": 17,
   "metadata": {},
   "outputs": [],
   "source": [
    "#Verb + Noun\n",
    "def aspect_VN(txt):\n",
    "    \n",
    "    sentList = nltk.sent_tokenize(txt) # Splitting the text into sentences\n",
    "\n",
    "    for line in sentList:\n",
    "        new_txt_list = nltk.word_tokenize(line)\n",
    "        taggedList = nltk.pos_tag(new_txt_list)\n",
    "\n",
    "    #print(taggedList)\n",
    "    categoryList = []\n",
    "\n",
    "    for i in range(0,len(taggedList)-1):\n",
    "         if((taggedList[i][1]==\"VB\" or taggedList[i][1]==\"VBP\" or taggedList[i][1]==\"VBG\" or taggedList[i][1]==\"VBN\" or taggedList[i][1]==\"VBD\") and \n",
    "           (taggedList[i+1][1]==\"NN\" or taggedList[i+1][1]==\"NNS\" or taggedList[i+1][1]==\"NNP\" or taggedList[i+1][1]==\"NNPS\")):\n",
    "\n",
    "            categoryList.append([taggedList[i][0]+\" \" +taggedList[i+1][0]])\n",
    "\n",
    "    return categoryList"
   ]
  },
  {
   "cell_type": "code",
   "execution_count": 18,
   "metadata": {},
   "outputs": [],
   "source": [
    "categoryList_VN= [aspect_VN(data['unique_sent'][unt]) for unt in range(0,10000)]"
   ]
  },
  {
   "cell_type": "code",
   "execution_count": 19,
   "metadata": {},
   "outputs": [],
   "source": [
    "flat_VN = list(nested_list_flatten(categoryList_VN))"
   ]
  },
  {
   "cell_type": "code",
   "execution_count": 24,
   "metadata": {},
   "outputs": [
    {
     "data": {
      "text/plain": [
       "['take place',\n",
       " 'seen movie',\n",
       " 'see movie',\n",
       " 'recommend anyone',\n",
       " 'want see',\n",
       " 'make sense',\n",
       " 'made tv',\n",
       " 'supporting cast']"
      ]
     },
     "execution_count": 24,
     "metadata": {},
     "output_type": "execute_result"
    }
   ],
   "source": [
    "freq_feature_VN = freq_aspects(flat_VN,50)\n",
    "freq_feature_VN"
   ]
  },
  {
   "cell_type": "code",
   "execution_count": 25,
   "metadata": {},
   "outputs": [],
   "source": [
    "# Noun + Adverb + Verb \n",
    "def aspect_NAV(txt):\n",
    "    \n",
    "    sentList = nltk.sent_tokenize(txt) # Splitting the text into sentences\n",
    "\n",
    "    for line in sentList:\n",
    "        new_txt_list = nltk.word_tokenize(line)\n",
    "        taggedList = nltk.pos_tag(new_txt_list)\n",
    "\n",
    "    #print(taggedList)\n",
    "    categoryList = []\n",
    "\n",
    "    for i in range(0,len(taggedList)-2):\n",
    "         if((taggedList[i][1]==\"NN\" or taggedList[i][1]==\"NNS\" or taggedList[i][1]==\"NNP\" or taggedList[i][1]==\"NNPS\")\n",
    "            and (taggedList[i+1][1]==\"RB\" or taggedList[i+1][1]==\"RBR\" or taggedList[i+1][1]==\"RBS\")\n",
    "           and (taggedList[i+2][1]==\"VB\" or taggedList[i+2][1]==\"VBP\" or taggedList[i+2][1]==\"VBG\" or taggedList[i+2][1]==\"VBN\" or taggedList[i+2][1]==\"VBD\")):\n",
    "\n",
    "            categoryList.append([taggedList[i][0]+\" \" +taggedList[i+1][0]+\" \" +taggedList[i+2][0]])\n",
    "\n",
    "    return categoryList"
   ]
  },
  {
   "cell_type": "code",
   "execution_count": 26,
   "metadata": {},
   "outputs": [],
   "source": [
    "categoryList_NAV = [aspect_NAV(data['unique_sent'][unt]) for unt in range(0,10000)]"
   ]
  },
  {
   "cell_type": "code",
   "execution_count": 27,
   "metadata": {},
   "outputs": [],
   "source": [
    "flat_NAV = list(nested_list_flatten(categoryList_NAV))"
   ]
  },
  {
   "cell_type": "code",
   "execution_count": 29,
   "metadata": {},
   "outputs": [
    {
     "data": {
      "text/plain": [
       "['movie ever seen',\n",
       " 'film ever seen',\n",
       " 'movie ever made',\n",
       " 'thing ever seen',\n",
       " 'film ever made',\n",
       " 'comedy ever seen']"
      ]
     },
     "execution_count": 29,
     "metadata": {},
     "output_type": "execute_result"
    }
   ],
   "source": [
    "freq_feature_NAV = freq_aspects(flat_NAV,10)\n",
    "freq_feature_NAV"
   ]
  },
  {
   "cell_type": "code",
   "execution_count": 25,
   "metadata": {},
   "outputs": [],
   "source": [
    "#Adjective + Noun\n",
    "def aspect_AN(txt):\n",
    "    \n",
    "    sentList = nltk.sent_tokenize(txt) # Splitting the text into sentences\n",
    "\n",
    "    for line in sentList:\n",
    "        new_txt_list = nltk.word_tokenize(line)\n",
    "        taggedList = nltk.pos_tag(new_txt_list)\n",
    "\n",
    "    #print(taggedList)\n",
    "    categoryList = []\n",
    "\n",
    "    for i in range(0,len(taggedList)-1):\n",
    "        if((taggedList[i][1]==\"JJ\" ) and (taggedList[i+1][1]==\"NN\" or taggedList[i+1][1]==\"NNS\" or taggedList[i+1][1]==\"NNP\" or taggedList[i+1][1]==\"NNPS\")):\n",
    "\n",
    "            categoryList.append([taggedList[i][0]+\" \" +taggedList[i+1][0]])\n",
    "        \n",
    "    return categoryList"
   ]
  },
  {
   "cell_type": "code",
   "execution_count": 26,
   "metadata": {},
   "outputs": [],
   "source": [
    "categoryList = [aspect_AN(data1['unique_sent'][unt]) for unt in range(0,10000)]"
   ]
  },
  {
   "cell_type": "code",
   "execution_count": 5,
   "metadata": {},
   "outputs": [],
   "source": [
    "from collections import Iterable\n",
    "def nested_list_flatten(lis):\n",
    "     for item in lis:\n",
    "            if isinstance(item, Iterable) and not isinstance(item, str):\n",
    "                for x in nested_list_flatten(item):\n",
    "                    yield x\n",
    "            else:        \n",
    "                    yield item"
   ]
  },
  {
   "cell_type": "code",
   "execution_count": 4,
   "metadata": {},
   "outputs": [
    {
     "ename": "NameError",
     "evalue": "name 'categoryList' is not defined",
     "output_type": "error",
     "traceback": [
      "\u001b[1;31m---------------------------------------------------------------------------\u001b[0m",
      "\u001b[1;31mNameError\u001b[0m                                 Traceback (most recent call last)",
      "\u001b[1;32m<ipython-input-4-baeb91e22b66>\u001b[0m in \u001b[0;36m<module>\u001b[1;34m\u001b[0m\n\u001b[1;32m----> 1\u001b[1;33m \u001b[0mflat\u001b[0m \u001b[1;33m=\u001b[0m \u001b[0mlist\u001b[0m\u001b[1;33m(\u001b[0m\u001b[0mnested_list_flatten\u001b[0m\u001b[1;33m(\u001b[0m\u001b[0mcategoryList\u001b[0m \u001b[1;33m)\u001b[0m\u001b[1;33m)\u001b[0m\u001b[1;33m\u001b[0m\u001b[1;33m\u001b[0m\u001b[0m\n\u001b[0m",
      "\u001b[1;31mNameError\u001b[0m: name 'categoryList' is not defined"
     ]
    }
   ],
   "source": [
    "flat = list(nested_list_flatten(categoryList ))"
   ]
  },
  {
   "cell_type": "code",
   "execution_count": 6,
   "metadata": {},
   "outputs": [],
   "source": [
    "from collections import Counter\n",
    "#counter=Counter(flat)\n",
    "#most_commons = counter.most_common(10)\n",
    "#most_commons\n",
    "def freq_aspects(lst, k): \n",
    "    counted = Counter(lst) \n",
    "    #print(counted)  \n",
    "    temp_lst = [] \n",
    "    for el in counted: \n",
    "        if counted[el] > k: \n",
    "            temp_lst.append(el) \n",
    "    return temp_lst"
   ]
  },
  {
   "cell_type": "code",
   "execution_count": 31,
   "metadata": {},
   "outputs": [
    {
     "data": {
      "text/plain": [
       "['special effect',\n",
       " 'low budget',\n",
       " 'whole thing',\n",
       " 'real life',\n",
       " 'main character',\n",
       " 'first time',\n",
       " 'long time',\n",
       " 'high school',\n",
       " 'new york',\n",
       " 'bad guy']"
      ]
     },
     "execution_count": 31,
     "metadata": {},
     "output_type": "execute_result"
    }
   ],
   "source": [
    "freq_feature = freq_aspects(flat,100)\n",
    "freq_feature"
   ]
  },
  {
   "cell_type": "code",
   "execution_count": 32,
   "metadata": {},
   "outputs": [],
   "source": [
    "#Adjective + Noun + Noun\n",
    "def aspect_ANN(txt):\n",
    "    \n",
    "    sentList = nltk.sent_tokenize(txt) # Splitting the text into sentences\n",
    "\n",
    "    for line in sentList:\n",
    "        new_txt_list = nltk.word_tokenize(line)\n",
    "        taggedList = nltk.pos_tag(new_txt_list)\n",
    "\n",
    "    #print(taggedList)\n",
    "    categoryList = []\n",
    "\n",
    "    for i in range(0,len(taggedList)-2):\n",
    "        if((taggedList[i][1]==\"JJ\") and (taggedList[i+1][1]==\"NN\" or taggedList[i+1][1]==\"NNS\" or taggedList[i+1][1]==\"NNP\" or taggedList[i+1][1]==\"NNPS\") and \n",
    "          (taggedList[i+2][1]==\"NN\" or taggedList[i+2][1]==\"NNS\" or taggedList[i+2][1]==\"NNP\" or taggedList[i+2][1]==\"NNPS\")):\n",
    "\n",
    "            categoryList.append([taggedList[i][0]+\" \" +taggedList[i+1][0]+\" \" +taggedList[i+2][0]])\n",
    "        \n",
    "    return categoryList"
   ]
  },
  {
   "cell_type": "code",
   "execution_count": 33,
   "metadata": {},
   "outputs": [],
   "source": [
    "categoryList_ANN = [aspect_ANN(data1['unique_sent'][unt]) for unt in range(0,10000)]"
   ]
  },
  {
   "cell_type": "code",
   "execution_count": 34,
   "metadata": {},
   "outputs": [],
   "source": [
    "flat_ANN = list(nested_list_flatten(categoryList_ANN))"
   ]
  },
  {
   "cell_type": "code",
   "execution_count": 37,
   "metadata": {},
   "outputs": [
    {
     "data": {
      "text/plain": [
       "['complete waste time',\n",
       " 'new york city',\n",
       " 'first time saw',\n",
       " 'low budget horror',\n",
       " 'low budget movie',\n",
       " 'local video store',\n",
       " 'low budget film']"
      ]
     },
     "execution_count": 37,
     "metadata": {},
     "output_type": "execute_result"
    }
   ],
   "source": [
    "freq_feature_ANN = freq_aspects(flat_ANN,10)\n",
    "freq_feature_ANN"
   ]
  },
  {
   "cell_type": "code",
   "execution_count": 112,
   "metadata": {},
   "outputs": [],
   "source": [
    "#Adverb + Adjective\n",
    "def aspect_AvA(txt):\n",
    "    \n",
    "    sentList = nltk.sent_tokenize(txt) # Splitting the text into sentences\n",
    "\n",
    "    for line in sentList:\n",
    "        new_txt_list = nltk.word_tokenize(line)\n",
    "        taggedList = nltk.pos_tag(new_txt_list)\n",
    "\n",
    "    #print(taggedList)\n",
    "    categoryList = []\n",
    "\n",
    "    for i in range(0,len(taggedList)-1):\n",
    "        if((taggedList[i][1]==\"RB\" or taggedList[i][1]==\"RBR\" or taggedList[i][1]==\"RBS\") and \n",
    "           (taggedList[i+1][1]==\"JJ\")):\n",
    "\n",
    "            categoryList.append([taggedList[i][0]+\" \" +taggedList[i+1][0]])\n",
    "        \n",
    "    return categoryList"
   ]
  },
  {
   "cell_type": "code",
   "execution_count": 113,
   "metadata": {},
   "outputs": [],
   "source": [
    "categoryList_AvA = [aspect_AvA(data1['unique_sent'][unt]) for unt in range(0,10000)]"
   ]
  },
  {
   "cell_type": "code",
   "execution_count": 121,
   "metadata": {},
   "outputs": [],
   "source": [
    "flat_AvA = list(nested_list_flatten(categoryList_AvA))"
   ]
  },
  {
   "cell_type": "code",
   "execution_count": 130,
   "metadata": {},
   "outputs": [],
   "source": [
    "import text2emotion as te\n",
    "import numpy as np\n",
    "def text_2_emotions(text):\n",
    "    r = []\n",
    "    result = te.get_emotion(text)\n",
    "    for k,v in result.items(): \n",
    "        if result[k] != 0.0:\n",
    "            r.append(max(result, key=result.get))\n",
    "    return np.unique(r)\n",
    "res = []\n",
    "for asp in freq_feature_AvA:\n",
    "    res.append(text_2_emotions(str(asp)))  "
   ]
  },
  {
   "cell_type": "code",
   "execution_count": 131,
   "metadata": {},
   "outputs": [],
   "source": [
    "aspect_data = pd.DataFrame()"
   ]
  },
  {
   "cell_type": "code",
   "execution_count": 132,
   "metadata": {},
   "outputs": [],
   "source": [
    "aspect_data['aspects'] = freq_feature_AvA"
   ]
  },
  {
   "cell_type": "code",
   "execution_count": 133,
   "metadata": {},
   "outputs": [],
   "source": [
    "aspect_data['AdA_emotions'] = res"
   ]
  },
  {
   "cell_type": "code",
   "execution_count": 134,
   "metadata": {},
   "outputs": [
    {
     "data": {
      "text/html": [
       "<div>\n",
       "<style scoped>\n",
       "    .dataframe tbody tr th:only-of-type {\n",
       "        vertical-align: middle;\n",
       "    }\n",
       "\n",
       "    .dataframe tbody tr th {\n",
       "        vertical-align: top;\n",
       "    }\n",
       "\n",
       "    .dataframe thead th {\n",
       "        text-align: right;\n",
       "    }\n",
       "</style>\n",
       "<table border=\"1\" class=\"dataframe\">\n",
       "  <thead>\n",
       "    <tr style=\"text-align: right;\">\n",
       "      <th></th>\n",
       "      <th>aspects</th>\n",
       "      <th>AdA_emotions</th>\n",
       "    </tr>\n",
       "  </thead>\n",
       "  <tbody>\n",
       "    <tr>\n",
       "      <th>0</th>\n",
       "      <td>pretty much</td>\n",
       "      <td>[Happy]</td>\n",
       "    </tr>\n",
       "    <tr>\n",
       "      <th>1</th>\n",
       "      <td>pretty good</td>\n",
       "      <td>[Happy]</td>\n",
       "    </tr>\n",
       "    <tr>\n",
       "      <th>2</th>\n",
       "      <td>really good</td>\n",
       "      <td>[Happy]</td>\n",
       "    </tr>\n",
       "    <tr>\n",
       "      <th>3</th>\n",
       "      <td>really bad</td>\n",
       "      <td>[Surprise]</td>\n",
       "    </tr>\n",
       "    <tr>\n",
       "      <th>4</th>\n",
       "      <td>quite good</td>\n",
       "      <td>[Happy]</td>\n",
       "    </tr>\n",
       "  </tbody>\n",
       "</table>\n",
       "</div>"
      ],
      "text/plain": [
       "       aspects AdA_emotions\n",
       "0  pretty much      [Happy]\n",
       "1  pretty good      [Happy]\n",
       "2  really good      [Happy]\n",
       "3   really bad   [Surprise]\n",
       "4   quite good      [Happy]"
      ]
     },
     "execution_count": 134,
     "metadata": {},
     "output_type": "execute_result"
    }
   ],
   "source": [
    "aspect_data"
   ]
  },
  {
   "cell_type": "code",
   "execution_count": 129,
   "metadata": {},
   "outputs": [
    {
     "data": {
      "text/plain": [
       "['pretty much', 'pretty good', 'really good', 'really bad', 'quite good']"
      ]
     },
     "execution_count": 129,
     "metadata": {},
     "output_type": "execute_result"
    }
   ],
   "source": [
    "freq_feature_AvA = freq_aspects(flat_AvA,50)\n",
    "freq_feature_AvA"
   ]
  },
  {
   "cell_type": "code",
   "execution_count": 44,
   "metadata": {},
   "outputs": [],
   "source": [
    "#Verb + Adjective + Noun\n",
    "def aspect_VAN(txt):\n",
    "    \n",
    "   \n",
    "    sentList = nltk.sent_tokenize(txt) # Splitting the text into sentences\n",
    "\n",
    "    for line in sentList:\n",
    "        new_txt_list = nltk.word_tokenize(line)\n",
    "        taggedList = nltk.pos_tag(new_txt_list)\n",
    "    \n",
    "    categoryList = []\n",
    "    #VBD\tverb, past tense\ttook\n",
    "    #VBG\tverb, gerund/present participle\ttaking\n",
    "    #VBN\tverb, past participle\ttaken\n",
    "    #VBP\tverb, sing. present, non-3d\ttake\n",
    "    #VBZ\tverb, 3rd person sing. present\ttakes\n",
    "    #NN\tnoun, singular 'desk'\n",
    "    #NNS\tnoun plural\t'desks'\n",
    "    #NNP\tproper noun, singular\t'Harrison'\n",
    "    #NNPS\tproper noun, plural\t'Americans'\n",
    "    for i in range(0,len(taggedList)-2):\n",
    "        if((taggedList[i][1]==\"VB\" or taggedList[i][1]==\"VBP\" or taggedList[i][1]==\"VBD\" or taggedList[i][1]==\"VBG\" or taggedList[i][1]==\"VBN\") and taggedList[i+1][1]==\"JJ\" and (taggedList[i+2][1]==\"NN\" or taggedList[i+2][1]==\"NNS\" or taggedList[i+2][1]==\"NNP\" or taggedList[i+2][1]==\"NNPS\")):\n",
    "\n",
    "            categoryList.append([taggedList[i][0]+\" \"+taggedList[i+1][0]+\" \"+taggedList[i+2][0]])\n",
    "\n",
    "    return categoryList"
   ]
  },
  {
   "cell_type": "code",
   "execution_count": 45,
   "metadata": {},
   "outputs": [],
   "source": [
    "categoryList_VAN = [aspect_VAN(data1['unique_sent'][unt]) for unt in range(0,10000)]"
   ]
  },
  {
   "cell_type": "code",
   "execution_count": 46,
   "metadata": {},
   "outputs": [],
   "source": [
    "flat_VAN = list(nested_list_flatten(categoryList_VAN))"
   ]
  },
  {
   "cell_type": "code",
   "execution_count": 49,
   "metadata": {},
   "outputs": [
    {
     "data": {
      "text/plain": [
       "['seen long time', 'based true story']"
      ]
     },
     "execution_count": 49,
     "metadata": {},
     "output_type": "execute_result"
    }
   ],
   "source": [
    "freq_feature_VAN = freq_aspects(flat_VAN,20)\n",
    "freq_feature_VAN"
   ]
  },
  {
   "cell_type": "code",
   "execution_count": 57,
   "metadata": {},
   "outputs": [],
   "source": [
    "#Adjective + verb + Noun\n",
    "def aspect_AVN(txt):\n",
    "    \n",
    "    sentList = nltk.sent_tokenize(txt) # Splitting the text into sentences\n",
    "\n",
    "    for line in sentList:\n",
    "        new_txt_list = nltk.word_tokenize(line)\n",
    "        taggedList = nltk.pos_tag(new_txt_list)\n",
    "\n",
    "    #print(taggedList)\n",
    "    categoryList = []\n",
    "\n",
    "    for i in range(0,len(taggedList)-2):\n",
    "        if((taggedList[i][1]==\"JJ\") and (taggedList[i+1][1]==\"VB\" or taggedList[i+1][1]==\"VBP\" or taggedList[i+1][1]==\"VBG\" or taggedList[i+1][1]==\"VBN\" or taggedList[i+1][1]==\"VBD\") and \n",
    "           (taggedList[i+2][1]==\"NN\" or taggedList[i+2][1]==\"NNS\" or taggedList[i+2][1]==\"NNP\" or taggedList[i+2][1]==\"NNPS\")):\n",
    "\n",
    "            categoryList.append([taggedList[i][0]+\" \" +taggedList[i+1][0]+\" \" +taggedList[i+2][0]])\n",
    "        \n",
    "    return categoryList"
   ]
  },
  {
   "cell_type": "code",
   "execution_count": 58,
   "metadata": {},
   "outputs": [],
   "source": [
    "categoryList_AVN = [aspect_AVN(data1['unique_sent'][unt]) for unt in range(0,10000)]"
   ]
  },
  {
   "cell_type": "code",
   "execution_count": 59,
   "metadata": {},
   "outputs": [],
   "source": [
    "flat_AVN = list(nested_list_flatten(categoryList_AVN))"
   ]
  },
  {
   "cell_type": "code",
   "execution_count": 63,
   "metadata": {},
   "outputs": [
    {
     "data": {
      "text/plain": [
       "['strong supporting cast',\n",
       " 'natural born killer',\n",
       " 'small supporting role',\n",
       " 'much say film',\n",
       " 'first saw movie']"
      ]
     },
     "execution_count": 63,
     "metadata": {},
     "output_type": "execute_result"
    }
   ],
   "source": [
    "freq_feature_AVN = freq_aspects(flat_AVN,3)\n",
    "freq_feature_AVN"
   ]
  },
  {
   "cell_type": "code",
   "execution_count": 36,
   "metadata": {},
   "outputs": [],
   "source": [
    "# Adjective + Adverb \n",
    "def aspect_AdA(txt):\n",
    "    \n",
    "    sentList = nltk.sent_tokenize(txt) # Splitting the text into sentences\n",
    "\n",
    "    for line in sentList:\n",
    "        new_txt_list = nltk.word_tokenize(line)\n",
    "        taggedList = nltk.pos_tag(new_txt_list)\n",
    "\n",
    "    #print(taggedList)\n",
    "    categoryList = []\n",
    "\n",
    "    for i in range(0,len(taggedList)-1):\n",
    "        if((taggedList[i][1]==\"JJ\") and (taggedList[i+1][1]==\"RB\" or taggedList[i+1][1]==\"RBR\" or taggedList[i+1][1]==\"RBS\")):\n",
    "\n",
    "            categoryList.append([taggedList[i][0]+\" \" +taggedList[i+1][0]])\n",
    "        \n",
    "    return categoryList"
   ]
  },
  {
   "cell_type": "code",
   "execution_count": 37,
   "metadata": {},
   "outputs": [],
   "source": [
    "categoryList_AdA = [aspect_AdA(data1['unique_sent'][unt]) for unt in range(0,10000)]"
   ]
  },
  {
   "cell_type": "code",
   "execution_count": 38,
   "metadata": {},
   "outputs": [],
   "source": [
    "flat_AdA = list(nested_list_flatten(categoryList_AdA))"
   ]
  },
  {
   "cell_type": "code",
   "execution_count": 54,
   "metadata": {},
   "outputs": [
    {
     "data": {
      "text/plain": [
       "['good enough', 'bad enough', 'good well', 'good even', 'lucky enough']"
      ]
     },
     "execution_count": 54,
     "metadata": {},
     "output_type": "execute_result"
    }
   ],
   "source": [
    "freq_feature_AdA = freq_aspects(flat_AdA,20)\n",
    "freq_feature_AdA"
   ]
  },
  {
   "cell_type": "code",
   "execution_count": 52,
   "metadata": {},
   "outputs": [],
   "source": [
    "# Adverb, adverb and noun\n",
    "\n",
    "def aspect_AvAvN(txt):\n",
    "    \n",
    "    sentList = nltk.sent_tokenize(txt) # Splitting the text into sentences\n",
    "\n",
    "    for line in sentList:\n",
    "        new_txt_list = nltk.word_tokenize(line)\n",
    "        taggedList = nltk.pos_tag(new_txt_list)\n",
    "\n",
    "    #print(taggedList)\n",
    "    categoryList = []\n",
    "\n",
    "    for i in range(0,len(taggedList)-2):\n",
    "        if((taggedList[i][1]==\"RB\" or taggedList[i][1]==\"RBR\" or taggedList[i][1]==\"RBS\") and (taggedList[i+1][1]==\"RB\" or taggedList[i+1][1]==\"RBR\" or taggedList[i+1][1]==\"RBS\") and \n",
    "           (taggedList[i+2][1]==\"NN\" or taggedList[i+2][1]==\"NNS\" or taggedList[i+2][1]==\"NNP\" or taggedList[i+2][1]==\"NNPS\")):\n",
    "\n",
    "            categoryList.append([taggedList[i][0]+\" \" +taggedList[i+1][0]+\" \" +taggedList[i+2][0]])\n",
    "        \n",
    "    return categoryList"
   ]
  },
  {
   "cell_type": "code",
   "execution_count": 53,
   "metadata": {},
   "outputs": [],
   "source": [
    "categoryList_AvAvN = [aspect_AvAvN(data1['unique_sent'][unt]) for unt in range(0,10000)]"
   ]
  },
  {
   "cell_type": "code",
   "execution_count": 54,
   "metadata": {},
   "outputs": [],
   "source": [
    "flat_AvAvN = list(nested_list_flatten(categoryList_AvAvN))"
   ]
  },
  {
   "cell_type": "code",
   "execution_count": 57,
   "metadata": {},
   "outputs": [
    {
     "data": {
      "text/plain": [
       "['much better film',\n",
       " 'fast forward button',\n",
       " 'fast forward scene',\n",
       " 'somewhere along line']"
      ]
     },
     "execution_count": 57,
     "metadata": {},
     "output_type": "execute_result"
    }
   ],
   "source": [
    "freq_feature_AvAvN = freq_aspects(flat_AvAvN,2)\n",
    "freq_feature_AvAvN"
   ]
  },
  {
   "cell_type": "code",
   "execution_count": 58,
   "metadata": {},
   "outputs": [],
   "source": [
    "#Adverb + Verb\n",
    "def aspect_AvV(txt):\n",
    "    \n",
    "    sentList = nltk.sent_tokenize(txt) # Splitting the text into sentences\n",
    "\n",
    "    for line in sentList:\n",
    "        new_txt_list = nltk.word_tokenize(line)\n",
    "        taggedList = nltk.pos_tag(new_txt_list)\n",
    "\n",
    "    #print(taggedList)\n",
    "    categoryList = []\n",
    "\n",
    "    for i in range(0,len(taggedList)-1):\n",
    "        if((taggedList[i][1]==\"RB\" or taggedList[i][1]==\"RBR\" or taggedList[i][1]==\"RBS\") and \n",
    "           (taggedList[i+1][1]==\"VB\" or taggedList[i+1][1]==\"VBP\" or taggedList[i+1][1]==\"VBG\" or taggedList[i+1][1]==\"VBN\" or taggedList[i+1][1]==\"VBD\")):\n",
    "\n",
    "            categoryList.append([taggedList[i][0]+\" \" +taggedList[i+1][0]])\n",
    "        \n",
    "    return categoryList"
   ]
  },
  {
   "cell_type": "code",
   "execution_count": 59,
   "metadata": {},
   "outputs": [],
   "source": [
    "categoryList_AvV = [aspect_AvV(data1['unique_sent'][unt]) for unt in range(0,10000)]"
   ]
  },
  {
   "cell_type": "code",
   "execution_count": 60,
   "metadata": {},
   "outputs": [],
   "source": [
    "flat_AvV = list(nested_list_flatten(categoryList_AvV))"
   ]
  },
  {
   "cell_type": "code",
   "execution_count": 65,
   "metadata": {},
   "outputs": [
    {
     "data": {
      "text/plain": [
       "['well known',\n",
       " 'ever made',\n",
       " 'well made',\n",
       " 'ever seen',\n",
       " 'well done',\n",
       " 'never get',\n",
       " 'never heard',\n",
       " 'well written',\n",
       " 'never seen',\n",
       " 'first saw',\n",
       " 'highly recommend',\n",
       " 'highly recommended']"
      ]
     },
     "execution_count": 65,
     "metadata": {},
     "output_type": "execute_result"
    }
   ],
   "source": [
    "freq_feature_AvV = freq_aspects(flat_AvV,50)\n",
    "freq_feature_AvV"
   ]
  },
  {
   "cell_type": "code",
   "execution_count": 135,
   "metadata": {},
   "outputs": [],
   "source": [
    "res = []\n",
    "for asp in freq_feature_AvV:\n",
    "    res.append(text_2_emotions(str(asp))) "
   ]
  },
  {
   "cell_type": "code",
   "execution_count": 136,
   "metadata": {},
   "outputs": [],
   "source": [
    "aspect_data = pd.DataFrame()"
   ]
  },
  {
   "cell_type": "code",
   "execution_count": 137,
   "metadata": {},
   "outputs": [],
   "source": [
    "aspect_data['aspects'] = freq_feature_AvV"
   ]
  },
  {
   "cell_type": "code",
   "execution_count": 139,
   "metadata": {},
   "outputs": [],
   "source": [
    "aspect_data['AvV_emotions'] = res"
   ]
  },
  {
   "cell_type": "code",
   "execution_count": 140,
   "metadata": {},
   "outputs": [
    {
     "data": {
      "text/html": [
       "<div>\n",
       "<style scoped>\n",
       "    .dataframe tbody tr th:only-of-type {\n",
       "        vertical-align: middle;\n",
       "    }\n",
       "\n",
       "    .dataframe tbody tr th {\n",
       "        vertical-align: top;\n",
       "    }\n",
       "\n",
       "    .dataframe thead th {\n",
       "        text-align: right;\n",
       "    }\n",
       "</style>\n",
       "<table border=\"1\" class=\"dataframe\">\n",
       "  <thead>\n",
       "    <tr style=\"text-align: right;\">\n",
       "      <th></th>\n",
       "      <th>aspects</th>\n",
       "      <th>AvV_emotions</th>\n",
       "    </tr>\n",
       "  </thead>\n",
       "  <tbody>\n",
       "    <tr>\n",
       "      <th>0</th>\n",
       "      <td>well known</td>\n",
       "      <td>[]</td>\n",
       "    </tr>\n",
       "    <tr>\n",
       "      <th>1</th>\n",
       "      <td>ever made</td>\n",
       "      <td>[Surprise]</td>\n",
       "    </tr>\n",
       "    <tr>\n",
       "      <th>2</th>\n",
       "      <td>well made</td>\n",
       "      <td>[Sad]</td>\n",
       "    </tr>\n",
       "    <tr>\n",
       "      <th>3</th>\n",
       "      <td>ever seen</td>\n",
       "      <td>[Surprise]</td>\n",
       "    </tr>\n",
       "    <tr>\n",
       "      <th>4</th>\n",
       "      <td>well done</td>\n",
       "      <td>[]</td>\n",
       "    </tr>\n",
       "    <tr>\n",
       "      <th>5</th>\n",
       "      <td>never get</td>\n",
       "      <td>[]</td>\n",
       "    </tr>\n",
       "    <tr>\n",
       "      <th>6</th>\n",
       "      <td>never heard</td>\n",
       "      <td>[]</td>\n",
       "    </tr>\n",
       "    <tr>\n",
       "      <th>7</th>\n",
       "      <td>well written</td>\n",
       "      <td>[]</td>\n",
       "    </tr>\n",
       "    <tr>\n",
       "      <th>8</th>\n",
       "      <td>never seen</td>\n",
       "      <td>[]</td>\n",
       "    </tr>\n",
       "    <tr>\n",
       "      <th>9</th>\n",
       "      <td>first saw</td>\n",
       "      <td>[Surprise]</td>\n",
       "    </tr>\n",
       "    <tr>\n",
       "      <th>10</th>\n",
       "      <td>highly recommend</td>\n",
       "      <td>[]</td>\n",
       "    </tr>\n",
       "    <tr>\n",
       "      <th>11</th>\n",
       "      <td>highly recommended</td>\n",
       "      <td>[]</td>\n",
       "    </tr>\n",
       "  </tbody>\n",
       "</table>\n",
       "</div>"
      ],
      "text/plain": [
       "               aspects AvV_emotions\n",
       "0           well known           []\n",
       "1            ever made   [Surprise]\n",
       "2            well made        [Sad]\n",
       "3            ever seen   [Surprise]\n",
       "4            well done           []\n",
       "5            never get           []\n",
       "6          never heard           []\n",
       "7         well written           []\n",
       "8           never seen           []\n",
       "9            first saw   [Surprise]\n",
       "10    highly recommend           []\n",
       "11  highly recommended           []"
      ]
     },
     "execution_count": 140,
     "metadata": {},
     "output_type": "execute_result"
    }
   ],
   "source": [
    "aspect_data"
   ]
  },
  {
   "cell_type": "code",
   "execution_count": 82,
   "metadata": {},
   "outputs": [],
   "source": [
    "# Verb, Adverb \n",
    "def aspect_VAv(txt):\n",
    "    \n",
    "    sentList = nltk.sent_tokenize(txt) # Splitting the text into sentences\n",
    "\n",
    "    for line in sentList:\n",
    "        new_txt_list = nltk.word_tokenize(line)\n",
    "        taggedList = nltk.pos_tag(new_txt_list)\n",
    "\n",
    "    #print(taggedList)\n",
    "    categoryList = []\n",
    "\n",
    "    for i in range(0,len(taggedList)-1):\n",
    "        if((taggedList[i][1]==\"VB\" or taggedList[i][1]==\"VBP\" or taggedList[i][1]==\"VBG\" or taggedList[i][1]==\"VBN\" or taggedList[i][1]==\"VBD\") and \n",
    "           (taggedList[i+1][1]==\"RB\" or taggedList[i+1][1]==\"RBR\" or taggedList[i+1][1]==\"RBS\")):\n",
    "\n",
    "            categoryList.append([taggedList[i][0]+\" \" +taggedList[i+1][0]])\n",
    "        \n",
    "    return categoryList"
   ]
  },
  {
   "cell_type": "code",
   "execution_count": 83,
   "metadata": {},
   "outputs": [],
   "source": [
    "categoryList_VAv = [aspect_VAv(data1['unique_sent'][unt]) for unt in range(0,10000)]"
   ]
  },
  {
   "cell_type": "code",
   "execution_count": 84,
   "metadata": {},
   "outputs": [],
   "source": [
    "flat_VAv = list(nested_list_flatten(categoryList_VAv))"
   ]
  },
  {
   "cell_type": "code",
   "execution_count": 87,
   "metadata": {},
   "outputs": [
    {
     "data": {
      "text/plain": [
       "['stay away',\n",
       " 'looking forward',\n",
       " 'come back',\n",
       " 'put together',\n",
       " 'thought wa',\n",
       " 'go back']"
      ]
     },
     "execution_count": 87,
     "metadata": {},
     "output_type": "execute_result"
    }
   ],
   "source": [
    "freq_feature_VAv = freq_aspects(flat_VAv,50)\n",
    "freq_feature_VAv"
   ]
  },
  {
   "cell_type": "code",
   "execution_count": 7,
   "metadata": {},
   "outputs": [],
   "source": [
    "#Adjective + Adverb + Noun\n",
    "def aspect_AjAN(txt):\n",
    "    #JJ adjective\n",
    "    #JJR adjective, comparative \n",
    "    #JJS adjective, superlative \n",
    "\n",
    "    sentList = nltk.sent_tokenize(txt) # Splitting the text into sentences\n",
    "\n",
    "    for line in sentList:\n",
    "        new_txt_list = nltk.word_tokenize(line)\n",
    "        taggedList = nltk.pos_tag(new_txt_list)\n",
    "\n",
    "    #print(taggedList)\n",
    "    categoryList = []\n",
    "\n",
    "    for i in range(0,len(taggedList)-2):\n",
    "        if((taggedList[i][1]==\"JJ\") and \n",
    "           (taggedList[i+1][1]==\"RB\" or taggedList[i+1][1]==\"RBR\" or taggedList[i+1][1]==\"RBS\") and \n",
    "           (taggedList[i+2][1]==\"NN\" or taggedList[i+2][1]==\"NNS\" or taggedList[i+2][1]==\"NNP\" or taggedList[i+2][1]==\"NNPS\")):\n",
    "\n",
    "            categoryList.append([taggedList[i][0]+\" \"+taggedList[i+1][0]+\" \"+taggedList[i+2][0]])\n",
    "\n",
    "    return categoryList"
   ]
  },
  {
   "cell_type": "code",
   "execution_count": 9,
   "metadata": {},
   "outputs": [],
   "source": [
    "categoryList_AjAN = [aspect_AjAN(data1['unique_sent'][unt]) for unt in range(0,10000)]"
   ]
  },
  {
   "cell_type": "code",
   "execution_count": 10,
   "metadata": {},
   "outputs": [],
   "source": [
    "flat_AjAN = list(nested_list_flatten(categoryList_AjAN))"
   ]
  },
  {
   "cell_type": "code",
   "execution_count": 14,
   "metadata": {},
   "outputs": [
    {
     "data": {
      "text/plain": [
       "['top enough approach', 'bad really movie']"
      ]
     },
     "execution_count": 14,
     "metadata": {},
     "output_type": "execute_result"
    }
   ],
   "source": [
    "freq_feature_AjAN = freq_aspects(flat_AjAN,1)\n",
    "freq_feature_AjAN"
   ]
  },
  {
   "cell_type": "code",
   "execution_count": 15,
   "metadata": {},
   "outputs": [],
   "source": [
    "#Adverb + Verb +  Noun\n",
    "def aspect_AvVN(txt):\n",
    "    \n",
    "    sentList = nltk.sent_tokenize(txt) # Splitting the text into sentences\n",
    "\n",
    "    for line in sentList:\n",
    "        new_txt_list = nltk.word_tokenize(line)\n",
    "        taggedList = nltk.pos_tag(new_txt_list)\n",
    "\n",
    "    #print(taggedList)\n",
    "    categoryList = []\n",
    "\n",
    "    for i in range(0,len(taggedList)-2):\n",
    "        if((taggedList[i][1]==\"RB\" or taggedList[i][1]==\"RBR\" or taggedList[i][1]==\"RBS\") and \n",
    "           (taggedList[i+1][1]==\"VB\" or taggedList[i+1][1]==\"VBP\" or taggedList[i+1][1]==\"VBG\" or taggedList[i+1][1]==\"VBN\" or taggedList[i+1][1]==\"VBD\") and\n",
    "         (taggedList[i+2][1]==\"NN\" or taggedList[i+2][1]==\"NNS\" or taggedList[i+2][1]==\"NNP\" or taggedList[i+2][1]==\"NNPS\")):\n",
    "\n",
    "            categoryList.append([taggedList[i][0]+\" \" +taggedList[i+1][0]+\" \" +taggedList[i+2][0]])\n",
    "        \n",
    "    return categoryList"
   ]
  },
  {
   "cell_type": "code",
   "execution_count": 16,
   "metadata": {},
   "outputs": [],
   "source": [
    "categoryList_AvVN = [aspect_AvVN(data1['unique_sent'][unt]) for unt in range(0,10000)]"
   ]
  },
  {
   "cell_type": "code",
   "execution_count": 17,
   "metadata": {},
   "outputs": [],
   "source": [
    "flat_AvVN = list(nested_list_flatten(categoryList_AvVN))"
   ]
  },
  {
   "cell_type": "code",
   "execution_count": 20,
   "metadata": {},
   "outputs": [
    {
     "data": {
      "text/plain": [
       "['ever seen plot', 'ever seen life']"
      ]
     },
     "execution_count": 20,
     "metadata": {},
     "output_type": "execute_result"
    }
   ],
   "source": [
    "freq_feature_AvVN = freq_aspects(flat_AvVN,10)\n",
    "freq_feature_AvVN"
   ]
  },
  {
   "cell_type": "code",
   "execution_count": 22,
   "metadata": {},
   "outputs": [],
   "source": [
    "#Verb + Adverb +  Noun\n",
    "def aspect_VAvN(txt):\n",
    "    \n",
    "    sentList = nltk.sent_tokenize(txt) # Splitting the text into sentences\n",
    "\n",
    "    for line in sentList:\n",
    "        new_txt_list = nltk.word_tokenize(line)\n",
    "        taggedList = nltk.pos_tag(new_txt_list)\n",
    "\n",
    "    #print(taggedList)\n",
    "    categoryList = []\n",
    "\n",
    "    for i in range(0,len(taggedList)-2):\n",
    "        if((taggedList[i][1]==\"VB\" or taggedList[i][1]==\"VBP\" or taggedList[i][1]==\"VBG\" or taggedList[i][1]==\"VBN\" or taggedList[i][1]==\"VBD\") and \n",
    "           (taggedList[i+1][1]==\"RB\" or taggedList[i+1][1]==\"RBR\" or taggedList[i+1][1]==\"RBS\") and \n",
    "            (taggedList[i+2][1]==\"NN\" or taggedList[i+2][1]==\"NNS\" or taggedList[i+2][1]==\"NNP\" or taggedList[i+2][1]==\"NNPS\")):\n",
    "\n",
    "            categoryList.append([taggedList[i][0]+\" \" +taggedList[i+1][0]+\" \" +taggedList[i+2][0]])\n",
    "        \n",
    "    return categoryList"
   ]
  },
  {
   "cell_type": "code",
   "execution_count": 23,
   "metadata": {},
   "outputs": [],
   "source": [
    "categoryList_VAvN = [aspect_VAvN(data1['unique_sent'][unt]) for unt in range(0,10000)]"
   ]
  },
  {
   "cell_type": "code",
   "execution_count": 24,
   "metadata": {},
   "outputs": [],
   "source": [
    "flat_VAvN = list(nested_list_flatten(categoryList_VAvN))"
   ]
  },
  {
   "cell_type": "code",
   "execution_count": 27,
   "metadata": {},
   "outputs": [
    {
     "data": {
      "text/plain": [
       "['looking forward movie', 'done better job', 'come back life', 'go back time']"
      ]
     },
     "execution_count": 27,
     "metadata": {},
     "output_type": "execute_result"
    }
   ],
   "source": [
    "freq_feature_VAvN = freq_aspects(flat_VAvN,3)\n",
    "freq_feature_VAvN"
   ]
  },
  {
   "cell_type": "code",
   "execution_count": 13,
   "metadata": {},
   "outputs": [],
   "source": [
    "#Adverb + Adjective + Noun\n",
    "def aspect_AAjN(txt):\n",
    "    \n",
    "    sentList = nltk.sent_tokenize(txt) # Splitting the text into sentences\n",
    "\n",
    "    for line in sentList:\n",
    "        new_txt_list = nltk.word_tokenize(line)\n",
    "        taggedList = nltk.pos_tag(new_txt_list)\n",
    "\n",
    "    #print(taggedList)\n",
    "    categoryList = []\n",
    "\n",
    "    for i in range(0,len(taggedList)-2):\n",
    "        if((taggedList[i][1]==\"RB\" or taggedList[i][1]==\"RBR\" or taggedList[i][1]==\"RBS\") and \n",
    "           (taggedList[i+1][1]==\"JJ\")and \n",
    "            (taggedList[i+2][1]==\"NN\" or taggedList[i+2][1]==\"NNS\" or taggedList[i+2][1]==\"NNP\" or taggedList[i+2][1]==\"NNPS\")):\n",
    "\n",
    "            categoryList.append([taggedList[i][0]+\" \" +taggedList[i+1][0]+\" \" +taggedList[i+2][0]])\n",
    "        \n",
    "    return categoryList"
   ]
  },
  {
   "cell_type": "code",
   "execution_count": 14,
   "metadata": {},
   "outputs": [],
   "source": [
    "categoryList_AAjN = [aspect_AAjN(data1['unique_sent'][unt]) for unt in range(0,10000)]"
   ]
  },
  {
   "cell_type": "code",
   "execution_count": 15,
   "metadata": {},
   "outputs": [],
   "source": [
    "flat_AAjN = list(nested_list_flatten(categoryList_AAjN))"
   ]
  },
  {
   "cell_type": "code",
   "execution_count": 19,
   "metadata": {},
   "outputs": [
    {
     "data": {
      "text/plain": [
       "['first saw movie',\n",
       " 'wa great movie',\n",
       " 'doe good job',\n",
       " 'pretty much sum',\n",
       " 'really bad movie',\n",
       " 'billy bob thornton',\n",
       " 'quite long time',\n",
       " 'pretty good job',\n",
       " 'never big fan',\n",
       " 'really enjoyed movie']"
      ]
     },
     "execution_count": 19,
     "metadata": {},
     "output_type": "execute_result"
    }
   ],
   "source": [
    "freq_feature_AAjN = freq_aspects(flat_AAjN,5)\n",
    "freq_feature_AAjN"
   ]
  },
  {
   "cell_type": "code",
   "execution_count": null,
   "metadata": {},
   "outputs": [],
   "source": []
  }
 ],
 "metadata": {
  "kernelspec": {
   "display_name": "Python 3",
   "language": "python",
   "name": "python3"
  },
  "language_info": {
   "codemirror_mode": {
    "name": "ipython",
    "version": 3
   },
   "file_extension": ".py",
   "mimetype": "text/x-python",
   "name": "python",
   "nbconvert_exporter": "python",
   "pygments_lexer": "ipython3",
   "version": "3.8.5"
  }
 },
 "nbformat": 4,
 "nbformat_minor": 4
}
